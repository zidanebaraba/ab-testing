{
  "cells": [
    {
      "cell_type": "markdown",
      "id": "23d051ff",
      "metadata": {
        "id": "23d051ff"
      },
      "source": [
        "<h1>Homework Session 16</h1>\n",
        "\n"
      ]
    },
    {
      "cell_type": "markdown",
      "id": "775d47fa",
      "metadata": {
        "id": "775d47fa"
      },
      "source": [
        "Hipotesis : \n",
        "- H0 : Tidak ada peningkatan conversion rate setelah menggunakan tampilan baru\n",
        "- H1 : Peningkatan pada conversion rate setelah menggunakan tampilan baru"
      ]
    },
    {
      "cell_type": "markdown",
      "id": "08382e29",
      "metadata": {
        "id": "08382e29"
      },
      "source": [
        "<h2>Data Preparation</h2>"
      ]
    },
    {
      "cell_type": "markdown",
      "id": "a4a987fa",
      "metadata": {
        "id": "a4a987fa"
      },
      "source": [
        "Tahap pertama, yang mana kita menyiapkan data untuk melanjutkan ke tahap selanjutnya.<br>\n",
        "Berikut adalah penjelasan dari masing-masing kolom yang ada :\n",
        "\n",
        "Columns:\n",
        "\n",
        "- user_id : User ID dari setiap session\n",
        "- timestamp : Timestamp dari setiap id\n",
        "- group : Mendefinisikan user id kedalam control atau treatment\n",
        "- landing_page: Mendefinisikan tampilan laman yang dilihat oleh user\n",
        "- converted : Mengindikasikan apakah terdapat konversi setelah akses ke halaman tersebut (binary, 0 = not converted, 1 = converted)\n",
        "\n",
        "Groups:\n",
        "- control group - Mendapatkan tampilan lama\n",
        "- treatment group - Mendapatkan tampilan terbaru\n",
        "\n",
        "Conversion Rate:\n",
        "- 0 : User tidak membeli produk\n",
        "- 1 : User membeli produk"
      ]
    },
    {
      "cell_type": "code",
      "execution_count": null,
      "id": "d6eb688e",
      "metadata": {
        "id": "d6eb688e"
      },
      "outputs": [],
      "source": [
        "# Import library yang dibutuhkan\n",
        "import pandas as pd\n",
        "import numpy as np\n",
        "import scipy.stats as ss\n",
        "import math as mt\n",
        "import itertools\n",
        "import matplotlib.pyplot as plt\n",
        "import seaborn as sns\n",
        "from statsmodels.stats.proportion import proportions_ztest, proportion_confint\n",
        "\n",
        "import statsmodels.stats.api as sms\n",
        "import matplotlib as mpl\n",
        "from math import ceil\n",
        "\n",
        "%matplotlib inline"
      ]
    },
    {
      "cell_type": "code",
      "execution_count": null,
      "id": "ba7acdb9",
      "metadata": {
        "id": "ba7acdb9",
        "outputId": "d233a840-f870-48af-bc0b-41cba6dc7057"
      },
      "outputs": [
        {
          "data": {
            "text/html": [
              "<div>\n",
              "<style scoped>\n",
              "    .dataframe tbody tr th:only-of-type {\n",
              "        vertical-align: middle;\n",
              "    }\n",
              "\n",
              "    .dataframe tbody tr th {\n",
              "        vertical-align: top;\n",
              "    }\n",
              "\n",
              "    .dataframe thead th {\n",
              "        text-align: right;\n",
              "    }\n",
              "</style>\n",
              "<table border=\"1\" class=\"dataframe\">\n",
              "  <thead>\n",
              "    <tr style=\"text-align: right;\">\n",
              "      <th></th>\n",
              "      <th>user_id</th>\n",
              "      <th>timestamp</th>\n",
              "      <th>group</th>\n",
              "      <th>landing_page</th>\n",
              "      <th>converted</th>\n",
              "    </tr>\n",
              "  </thead>\n",
              "  <tbody>\n",
              "    <tr>\n",
              "      <th>0</th>\n",
              "      <td>851104</td>\n",
              "      <td>2017-01-21 22:11:48.556739</td>\n",
              "      <td>control</td>\n",
              "      <td>old_page</td>\n",
              "      <td>0</td>\n",
              "    </tr>\n",
              "    <tr>\n",
              "      <th>1</th>\n",
              "      <td>804228</td>\n",
              "      <td>2017-01-12 08:01:45.159739</td>\n",
              "      <td>control</td>\n",
              "      <td>old_page</td>\n",
              "      <td>0</td>\n",
              "    </tr>\n",
              "    <tr>\n",
              "      <th>2</th>\n",
              "      <td>661590</td>\n",
              "      <td>2017-01-11 16:55:06.154213</td>\n",
              "      <td>treatment</td>\n",
              "      <td>new_page</td>\n",
              "      <td>0</td>\n",
              "    </tr>\n",
              "    <tr>\n",
              "      <th>3</th>\n",
              "      <td>853541</td>\n",
              "      <td>2017-01-08 18:28:03.143765</td>\n",
              "      <td>treatment</td>\n",
              "      <td>new_page</td>\n",
              "      <td>0</td>\n",
              "    </tr>\n",
              "    <tr>\n",
              "      <th>4</th>\n",
              "      <td>864975</td>\n",
              "      <td>2017-01-21 01:52:26.210827</td>\n",
              "      <td>control</td>\n",
              "      <td>old_page</td>\n",
              "      <td>1</td>\n",
              "    </tr>\n",
              "  </tbody>\n",
              "</table>\n",
              "</div>"
            ],
            "text/plain": [
              "   user_id                   timestamp      group landing_page  converted\n",
              "0   851104  2017-01-21 22:11:48.556739    control     old_page          0\n",
              "1   804228  2017-01-12 08:01:45.159739    control     old_page          0\n",
              "2   661590  2017-01-11 16:55:06.154213  treatment     new_page          0\n",
              "3   853541  2017-01-08 18:28:03.143765  treatment     new_page          0\n",
              "4   864975  2017-01-21 01:52:26.210827    control     old_page          1"
            ]
          },
          "execution_count": 2,
          "metadata": {},
          "output_type": "execute_result"
        }
      ],
      "source": [
        "#Pengambilan Data\n",
        "data = pd.read_csv('ab_data.csv')\n",
        "df = data.copy()\n",
        "df.head()"
      ]
    },
    {
      "cell_type": "code",
      "execution_count": null,
      "id": "2d6e6771",
      "metadata": {
        "id": "2d6e6771",
        "outputId": "e7ffc0a1-2368-47aa-f463-6d38bbb6fc28"
      },
      "outputs": [
        {
          "name": "stdout",
          "output_type": "stream",
          "text": [
            "<class 'pandas.core.frame.DataFrame'>\n",
            "RangeIndex: 294478 entries, 0 to 294477\n",
            "Data columns (total 5 columns):\n",
            " #   Column        Non-Null Count   Dtype \n",
            "---  ------        --------------   ----- \n",
            " 0   user_id       294478 non-null  int64 \n",
            " 1   timestamp     294478 non-null  object\n",
            " 2   group         294478 non-null  object\n",
            " 3   landing_page  294478 non-null  object\n",
            " 4   converted     294478 non-null  int64 \n",
            "dtypes: int64(2), object(3)\n",
            "memory usage: 11.2+ MB\n"
          ]
        }
      ],
      "source": [
        "#Check column yang ada\n",
        "df.info()"
      ]
    },
    {
      "cell_type": "markdown",
      "id": "b275df85",
      "metadata": {
        "id": "b275df85"
      },
      "source": [
        "<h2>Data Cleaning"
      ]
    },
    {
      "cell_type": "code",
      "execution_count": null,
      "id": "1667456b",
      "metadata": {
        "id": "1667456b",
        "outputId": "e7402436-53bf-455a-f38e-0da8c89b30c8"
      },
      "outputs": [
        {
          "data": {
            "text/plain": [
              "user_id         290584\n",
              "timestamp       294478\n",
              "group                2\n",
              "landing_page         2\n",
              "converted            2\n",
              "dtype: int64"
            ]
          },
          "execution_count": 4,
          "metadata": {},
          "output_type": "execute_result"
        }
      ],
      "source": [
        "#Lihat unique value\n",
        "#Terdapat perbedaan total antara user_id dan timestamp. artinya masih ada user_id yang duplicate\n",
        "df.nunique()"
      ]
    },
    {
      "cell_type": "code",
      "execution_count": null,
      "id": "cc2e4d8d",
      "metadata": {
        "id": "cc2e4d8d",
        "outputId": "41141929-0b69-4cd0-c2b5-fde235cfd841"
      },
      "outputs": [
        {
          "data": {
            "text/plain": [
              "user_id         290584\n",
              "timestamp       290585\n",
              "group                2\n",
              "landing_page         2\n",
              "converted            2\n",
              "dtype: int64"
            ]
          },
          "execution_count": 5,
          "metadata": {},
          "output_type": "execute_result"
        }
      ],
      "source": [
        "#Melakukan filtering terhadap database\n",
        "#Drop user_id treatment yang mendapatkan landing page lama\n",
        "i = df[((df['group']=='treatment') ==(df['landing_page']=='new_page')) == False].index\n",
        "df2 = df.drop(i)\n",
        "df2.nunique()"
      ]
    },
    {
      "cell_type": "code",
      "execution_count": null,
      "id": "0eb6af94",
      "metadata": {
        "id": "0eb6af94",
        "outputId": "a60ac608-bc1f-491a-8c25-8d3271fd65cb"
      },
      "outputs": [
        {
          "data": {
            "text/html": [
              "<div>\n",
              "<style scoped>\n",
              "    .dataframe tbody tr th:only-of-type {\n",
              "        vertical-align: middle;\n",
              "    }\n",
              "\n",
              "    .dataframe tbody tr th {\n",
              "        vertical-align: top;\n",
              "    }\n",
              "\n",
              "    .dataframe thead th {\n",
              "        text-align: right;\n",
              "    }\n",
              "</style>\n",
              "<table border=\"1\" class=\"dataframe\">\n",
              "  <thead>\n",
              "    <tr style=\"text-align: right;\">\n",
              "      <th></th>\n",
              "      <th>user_id</th>\n",
              "      <th>timestamp</th>\n",
              "      <th>group</th>\n",
              "      <th>landing_page</th>\n",
              "      <th>converted</th>\n",
              "    </tr>\n",
              "  </thead>\n",
              "  <tbody>\n",
              "    <tr>\n",
              "      <th>2893</th>\n",
              "      <td>773192</td>\n",
              "      <td>2017-01-14 02:55:59.590927</td>\n",
              "      <td>treatment</td>\n",
              "      <td>new_page</td>\n",
              "      <td>0</td>\n",
              "    </tr>\n",
              "  </tbody>\n",
              "</table>\n",
              "</div>"
            ],
            "text/plain": [
              "      user_id                   timestamp      group landing_page  converted\n",
              "2893   773192  2017-01-14 02:55:59.590927  treatment     new_page          0"
            ]
          },
          "execution_count": 6,
          "metadata": {},
          "output_type": "execute_result"
        }
      ],
      "source": [
        "#Check user id yang terduplicate\n",
        "df2[df2['user_id'].duplicated()]"
      ]
    },
    {
      "cell_type": "code",
      "execution_count": null,
      "id": "a8aa4927",
      "metadata": {
        "id": "a8aa4927",
        "outputId": "37766bda-c884-422f-b05f-c3885897695c"
      },
      "outputs": [
        {
          "data": {
            "text/html": [
              "<div>\n",
              "<style scoped>\n",
              "    .dataframe tbody tr th:only-of-type {\n",
              "        vertical-align: middle;\n",
              "    }\n",
              "\n",
              "    .dataframe tbody tr th {\n",
              "        vertical-align: top;\n",
              "    }\n",
              "\n",
              "    .dataframe thead th {\n",
              "        text-align: right;\n",
              "    }\n",
              "</style>\n",
              "<table border=\"1\" class=\"dataframe\">\n",
              "  <thead>\n",
              "    <tr style=\"text-align: right;\">\n",
              "      <th></th>\n",
              "      <th>user_id</th>\n",
              "      <th>timestamp</th>\n",
              "      <th>group</th>\n",
              "      <th>landing_page</th>\n",
              "      <th>converted</th>\n",
              "    </tr>\n",
              "  </thead>\n",
              "  <tbody>\n",
              "    <tr>\n",
              "      <th>1899</th>\n",
              "      <td>773192</td>\n",
              "      <td>2017-01-09 05:37:58.781806</td>\n",
              "      <td>treatment</td>\n",
              "      <td>new_page</td>\n",
              "      <td>0</td>\n",
              "    </tr>\n",
              "    <tr>\n",
              "      <th>2893</th>\n",
              "      <td>773192</td>\n",
              "      <td>2017-01-14 02:55:59.590927</td>\n",
              "      <td>treatment</td>\n",
              "      <td>new_page</td>\n",
              "      <td>0</td>\n",
              "    </tr>\n",
              "  </tbody>\n",
              "</table>\n",
              "</div>"
            ],
            "text/plain": [
              "      user_id                   timestamp      group landing_page  converted\n",
              "1899   773192  2017-01-09 05:37:58.781806  treatment     new_page          0\n",
              "2893   773192  2017-01-14 02:55:59.590927  treatment     new_page          0"
            ]
          },
          "execution_count": 7,
          "metadata": {},
          "output_type": "execute_result"
        }
      ],
      "source": [
        "#Pengecekan lebih dalam mengenai user id yang duplicate\n",
        "df2[df2['user_id'] == 773192]"
      ]
    },
    {
      "cell_type": "code",
      "execution_count": null,
      "id": "b12b067b",
      "metadata": {
        "id": "b12b067b",
        "outputId": "8622d5b7-28bc-4227-a5ce-bf19f3730280"
      },
      "outputs": [
        {
          "data": {
            "text/plain": [
              "user_id         290584\n",
              "timestamp       290584\n",
              "group                2\n",
              "landing_page         2\n",
              "converted            2\n",
              "dtype: int64"
            ]
          },
          "execution_count": 8,
          "metadata": {},
          "output_type": "execute_result"
        }
      ],
      "source": [
        "#Drop user id yang duplicate, karena nilai konversi dari kedua row sama\n",
        "df2.drop_duplicates(subset ='user_id',keep ='first',inplace = True)\n",
        "df2.nunique()"
      ]
    },
    {
      "cell_type": "code",
      "execution_count": null,
      "id": "a8fbec48",
      "metadata": {
        "id": "a8fbec48",
        "outputId": "a66c93b9-c8b7-422e-ec0a-ea0b4a8744d2"
      },
      "outputs": [
        {
          "data": {
            "text/plain": [
              "group\n",
              "control      145274\n",
              "treatment    145310\n",
              "Name: user_id, dtype: int64"
            ]
          },
          "execution_count": 9,
          "metadata": {},
          "output_type": "execute_result"
        }
      ],
      "source": [
        "# Melakukan perhitungan berdasarkan group\n",
        "df2.groupby(['group'])['user_id'].count()"
      ]
    },
    {
      "cell_type": "markdown",
      "id": "1e859bf1",
      "metadata": {
        "id": "1e859bf1"
      },
      "source": [
        "<b>Probability"
      ]
    },
    {
      "cell_type": "markdown",
      "id": "7703fbd5",
      "metadata": {
        "id": "7703fbd5"
      },
      "source": [
        "Pada tahap ini, kita mencoba untuk menghitung kemungkinan dari konversi berdasarkan dengan rata-rata."
      ]
    },
    {
      "cell_type": "code",
      "execution_count": null,
      "id": "3e11d195",
      "metadata": {
        "id": "3e11d195",
        "outputId": "4c9f811a-b026-4568-8d2b-75a6f1a12c53"
      },
      "outputs": [
        {
          "data": {
            "text/plain": [
              "4720"
            ]
          },
          "execution_count": 10,
          "metadata": {},
          "output_type": "execute_result"
        }
      ],
      "source": [
        "effect_size = sms.proportion_effectsize(0.13, 0.15)\n",
        "required_s = sms.NormalIndPower().solve_power(effect_size, power=0.8, alpha=0.05, ratio=1)\n",
        "required_s = ceil(required_s)\n",
        "required_s"
      ]
    },
    {
      "cell_type": "code",
      "execution_count": null,
      "id": "d595ef06",
      "metadata": {
        "id": "d595ef06",
        "outputId": "afa3423d-6b2b-4e64-e20c-94a5bdcc5205"
      },
      "outputs": [
        {
          "data": {
            "text/plain": [
              "0.11959708724499628"
            ]
          },
          "execution_count": 11,
          "metadata": {},
          "output_type": "execute_result"
        }
      ],
      "source": [
        "#Rata-rata secara keseluruhan\n",
        "P_pool = (df2.query('converted == 1').converted.count())/df2.shape[0]\n",
        "P_pool"
      ]
    },
    {
      "cell_type": "code",
      "execution_count": null,
      "id": "0b70c58e",
      "metadata": {
        "id": "0b70c58e",
        "outputId": "ce8e7212-da46-4876-a9d0-81bad061e320"
      },
      "outputs": [
        {
          "data": {
            "text/plain": [
              "0.1203863045004612"
            ]
          },
          "execution_count": 12,
          "metadata": {},
          "output_type": "execute_result"
        }
      ],
      "source": [
        "#Rata-rata konversi dari group control:\n",
        "control_df = df2.query('group ==\"control\"')\n",
        "P_old = control_df['converted'].mean()\n",
        "P_old"
      ]
    },
    {
      "cell_type": "code",
      "execution_count": null,
      "id": "f75e2c3e",
      "metadata": {
        "id": "f75e2c3e",
        "outputId": "f2c9dbdd-5385-4885-a5b9-028070dea942"
      },
      "outputs": [
        {
          "data": {
            "text/plain": [
              "0.11880806551510564"
            ]
          },
          "execution_count": 13,
          "metadata": {},
          "output_type": "execute_result"
        }
      ],
      "source": [
        "#Rata-rata konversi dari group treatment:\n",
        "treatment_df = df2.query('group ==\"treatment\"')\n",
        "P_new = treatment_df['converted'].mean()\n",
        "P_new"
      ]
    },
    {
      "cell_type": "markdown",
      "id": "902277b0",
      "metadata": {
        "id": "902277b0"
      },
      "source": [
        "<h2>Visualisasi"
      ]
    },
    {
      "cell_type": "code",
      "execution_count": null,
      "id": "748c3553",
      "metadata": {
        "id": "748c3553",
        "outputId": "03c566b3-f619-4ff2-9591-f2fd5a709c62"
      },
      "outputs": [
        {
          "data": {
            "image/png": "[encoded data removed]",
            "text/plain": [
              "<Figure size 432x576 with 1 Axes>"
            ]
          },
          "metadata": {
            "needs_background": "light"
          },
          "output_type": "display_data"
        }
      ],
      "source": [
        "plt.figure(figsize=(6,8))\n",
        "\n",
        "sns.barplot(x=df2['group'], y=df2['converted'], ci=False, palette='magma')\n",
        "\n",
        "plt.ylim(0, 0.14)\n",
        "plt.title('Conversion Rate by Group', size=20)\n",
        "plt.xlabel('Group', size=15)\n",
        "plt.ylabel('Converted (proportion)', size=15);"
      ]
    },
    {
      "cell_type": "code",
      "execution_count": null,
      "id": "fbb169fd",
      "metadata": {
        "id": "fbb169fd",
        "outputId": "0fd13f7c-5ad5-4afb-9582-3213eeba26cc"
      },
      "outputs": [
        {
          "data": {
            "text/plain": [
              "<matplotlib.legend.Legend at 0x7fa20299fd90>"
            ]
          },
          "execution_count": 15,
          "metadata": {},
          "output_type": "execute_result"
        },
        {
          "data": {
            "image/png": "[encoded data removed]",
            "text/plain": [
              "<Figure size 432x288 with 1 Axes>"
            ]
          },
          "metadata": {},
          "output_type": "display_data"
        }
      ],
      "source": [
        "mylabels = [\"Control\", \"Treatment\"]\n",
        "tes = df2.groupby(['group'])['user_id'].count()\n",
        "plt.pie(tes)\n",
        "plt.legend(mylabels, title = \"Group :\")\n"
      ]
    },
    {
      "cell_type": "markdown",
      "id": "a7cc397e",
      "metadata": {
        "id": "a7cc397e"
      },
      "source": [
        "<h2>Pengecekan Hasil"
      ]
    },
    {
      "cell_type": "code",
      "execution_count": null,
      "id": "c51632e4",
      "metadata": {
        "id": "c51632e4"
      },
      "outputs": [],
      "source": [
        "control_results = df[df['group'] == 'control']['converted']\n",
        "treatment_results = df[df['group'] == 'treatment']['converted']"
      ]
    },
    {
      "cell_type": "code",
      "execution_count": null,
      "id": "c1925562",
      "metadata": {
        "id": "c1925562"
      },
      "outputs": [],
      "source": [
        "nr_control = control_results.count()\n",
        "nr_treatment = control_results.count()\n",
        "successes = [control_results.sum(), treatment_results.sum()]\n",
        "nr_obs = [nr_control, nr_treatment]"
      ]
    },
    {
      "cell_type": "code",
      "execution_count": null,
      "id": "35528b3e",
      "metadata": {
        "id": "35528b3e"
      },
      "outputs": [],
      "source": [
        "z_stat, pvalue = proportions_ztest(successes, nobs=nr_obs)\n",
        "\n",
        "# Confidence interval\n",
        "(lower_control, lower_treatment), (upper_control, upper_treatment) = proportion_confint(successes, nobs=nr_obs, alpha=0.05)"
      ]
    },
    {
      "cell_type": "code",
      "execution_count": null,
      "id": "b65f3bb3",
      "metadata": {
        "id": "b65f3bb3",
        "outputId": "ca4f2f42-5bc9-42b7-9022-d4dd105c81b0"
      },
      "outputs": [
        {
          "name": "stdout",
          "output_type": "stream",
          "text": [
            "Z Statistic              : 1.19\n",
            "P-Value                  :  0.235\n",
            "CI 95% for control group : [0.119,0.122]\n",
            "CI 95% for Treatment group : [0.117,0.121]\n"
          ]
        }
      ],
      "source": [
        "print('Z Statistic              : {:.2f}'.format(z_stat))\n",
        "print('P-Value                  : {:6.3f}'.format(pvalue))\n",
        "print('CI 95% for control group : [{:.3f},{:.3f}]'.format(lower_control, upper_control))\n",
        "print('CI 95% for Treatment group : [{:.3f},{:.3f}]'.format(lower_treatment, upper_treatment))"
      ]
    },
    {
      "cell_type": "markdown",
      "id": "15c7aaac",
      "metadata": {
        "id": "15c7aaac"
      },
      "source": [
        "Kesimpulan : \n",
        "- Nilai P Value lebih tinggi dari alpha, yang berarti peluang menerima h0 lebih besar.\n",
        "- H0 dari masing-masing pengecekan lebih besar dari pada H1.\n",
        "- Berdasarkan rata-rata kemungkinan konversi dari user dari group control dan treatment, H0 memiliki konversi lebih tinggi.\n",
        "- Dengan point-point sebelumnya, dapat disimpulkan bahwa perubahan ke tampilan baru tidak menambah konversi, dan cenderung tidak ada perubahan. Dengan demikian, disarankan untuk tetap menggunakan tampilan lama dan melakukan experiment ulang dengan tampilan yang baru."
      ]
    },
    {
      "cell_type": "markdown",
      "id": "b21dba9f",
      "metadata": {
        "id": "b21dba9f"
      },
      "source": [
        "Referensi : \n",
        "- https://www.kaggle.com/code/aylinkarl/a-b-testing-analysis\n",
        "- https://www.kaggle.com/code/myzziah/e-commerce-a-b-testing-full-experiment\n",
        "- https://www.kaggle.com/code/kvinassenza/a-b-testing"
      ]
    }
  ],
  "metadata": {
    "kernelspec": {
      "display_name": "Python 3 (ipykernel)",
      "language": "python",
      "name": "python3"
    },
    "language_info": {
      "codemirror_mode": {
        "name": "ipython",
        "version": 3
      },
      "file_extension": ".py",
      "mimetype": "text/x-python",
      "name": "python",
      "nbconvert_exporter": "python",
      "pygments_lexer": "ipython3",
      "version": "3.9.7"
    },
    "colab": {
      "name": "Project ab testing - zidane.ipynb",
      "provenance": []
    }
  },
  "nbformat": 4,
  "nbformat_minor": 5
}